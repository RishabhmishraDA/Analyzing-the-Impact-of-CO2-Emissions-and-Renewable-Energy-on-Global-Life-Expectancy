{
 "cells": [
  {
   "cell_type": "markdown",
   "id": "fe16215e-53ab-40e5-9ada-ccec0b648b6f",
   "metadata": {},
   "source": [
    "# LIFE EXPECTANCY PROJECT \n",
    "## THIS CODE GET DATA  FROM API AND MODIFY ITS STRUCTURE BEFORE PUTS IN MONGODB"
   ]
  },
  {
   "cell_type": "markdown",
   "id": "ac0e542a-695f-4092-8427-1157169e7fad",
   "metadata": {},
   "source": [
    "# IMPORTING REQUIRED LIBRARIES\n"
   ]
  },
  {
   "cell_type": "code",
   "execution_count": 3,
   "id": "53bbce0c-bc02-4459-97c0-cec91c9a6073",
   "metadata": {},
   "outputs": [],
   "source": [
    "\n",
    "import requests\n",
    "import pandas as pd\n",
    "from pymongo import MongoClient\n"
   ]
  },
  {
   "cell_type": "markdown",
   "id": "432d8b53-d9e6-4a73-aecc-d4ebd40ad837",
   "metadata": {},
   "source": [
    "# FETCHING DATA FROM API "
   ]
  },
  {
   "cell_type": "code",
   "execution_count": 5,
   "id": "124093d3-83f1-4bf7-a2d9-b3b6b25d0eb3",
   "metadata": {},
   "outputs": [
    {
     "name": "stdout",
     "output_type": "stream",
     "text": [
      "I got the data from the website!\n",
      "First few rows of raw data:\n",
      "        Entity Code  Year  \\\n",
      "0  Afghanistan  AFG  1950   \n",
      "1  Afghanistan  AFG  1951   \n",
      "2  Afghanistan  AFG  1952   \n",
      "3  Afghanistan  AFG  1953   \n",
      "4  Afghanistan  AFG  1954   \n",
      "\n",
      "   Period life expectancy at birth - Sex: total - Age: 0  \n",
      "0                                            28.1563      \n",
      "1                                            28.5836      \n",
      "2                                            29.0138      \n",
      "3                                            29.4521      \n",
      "4                                            29.6975      \n"
     ]
    }
   ],
   "source": [
    "\n",
    "my_url = \"https://ourworldindata.org/grapher/life-expectancy.csv\"\n",
    "response = requests.get(my_url)\n",
    "my_data = pd.read_csv(my_url) \n",
    "print(\"I got the data from the website!\")\n",
    "print(\"First few rows of raw data:\")\n",
    "print(my_data.head())"
   ]
  },
  {
   "cell_type": "markdown",
   "id": "d67b386f-a12f-4a15-80a2-faaea7dcc039",
   "metadata": {},
   "source": [
    "# CLEANING THE DATA"
   ]
  },
  {
   "cell_type": "code",
   "execution_count": 7,
   "id": "011b3f42-b059-4491-a5e2-95c69c843f6c",
   "metadata": {},
   "outputs": [
    {
     "name": "stdout",
     "output_type": "stream",
     "text": [
      "\n",
      "Cleaned data looks like this:\n",
      "       Country  Year  Life Expectancy\n",
      "0  Afghanistan  1950          28.1563\n",
      "1  Afghanistan  1951          28.5836\n",
      "2  Afghanistan  1952          29.0138\n",
      "3  Afghanistan  1953          29.4521\n",
      "4  Afghanistan  1954          29.6975\n"
     ]
    }
   ],
   "source": [
    "\n",
    "my_data = my_data.rename(columns={\"Entity\": \"Country\", \"Period life expectancy at birth - Sex: total - Age: 0\": \"Life Expectancy\"})\n",
    "\n",
    "# Only keep the columns I want\n",
    "my_data = my_data[[\"Country\", \"Year\", \"Life Expectancy\"]]\n",
    "\n",
    "# Remove any blank rows\n",
    "my_data = my_data.dropna()\n",
    "\n",
    "# Make sure the data types are correct\n",
    "my_data[\"Year\"] = my_data[\"Year\"].astype(int)  # Make Year a number\n",
    "my_data[\"Life Expectancy\"] = my_data[\"Life Expectancy\"].astype(float)  # Make Life Expectancy a decimal\n",
    "\n",
    "# Remove any duplicate rows\n",
    "my_data = my_data.drop_duplicates()\n",
    "\n",
    "# Sort the data by Country and Year\n",
    "my_data = my_data.sort_values(by=[\"Country\", \"Year\"])\n",
    "\n",
    "# Show the cleaned data\n",
    "print(\"\")  # Empty line\n",
    "print(\"Cleaned data looks like this:\")\n",
    "print(my_data.head())  # Show first 5 rows again\n"
   ]
  },
  {
   "cell_type": "markdown",
   "id": "62f069f9-875e-448f-9e48-38285bb7fb1e",
   "metadata": {},
   "source": [
    "# SAVING PROCESSED DATA IN TO MONGO DB"
   ]
  },
  {
   "cell_type": "code",
   "execution_count": 9,
   "id": "f8ae2b5c-0750-41cd-a942-48c33bce3f04",
   "metadata": {},
   "outputs": [
    {
     "name": "stdout",
     "output_type": "stream",
     "text": [
      "I added the data to MongoDB\n",
      "Total documents in MongoDB: 21565\n",
      "First document in MongoDB: {'_id': ObjectId('68026ba54ffc2e0c78267da7'), 'Country': 'Afghanistan', 'Year': 1950, 'Life Expectancy': 28.1563}\n",
      "I made an index for Country and Year!\n",
      "Closed the MongoDB connection\n"
     ]
    }
   ],
   "source": [
    "\n",
    "# ESTABLISH A CONNECTION\n",
    "mongo = MongoClient('mongodb://localhost:27017/')\n",
    "my_database = mongo['life_expectancy_db']  # My database name\n",
    "my_collection = my_database['life_expectancy']  # My collection name\n",
    "\n",
    "# REMOVING OLD DATA\n",
    "my_collection.drop()\n",
    "\n",
    "# CONVERTING DATA INTO DICTONARY \n",
    "data_list = my_data.to_dict('records')\n",
    "\n",
    "# ADDED DATA TO MONGO DB\n",
    "my_collection.insert_many(data_list)\n",
    "print(\"I added the data to MongoDB\")\n",
    "\n",
    "# VERIFYING DATA\n",
    "count = my_collection.count_documents({})\n",
    "print(\"Total documents in MongoDB:\", count)\n",
    "\n",
    "# SHOW DATA TO VERIFY \n",
    "first = my_collection.find_one()\n",
    "print(\"First document in MongoDB:\", first)\n",
    "\n",
    "# MAKING A INDEX\n",
    "my_collection.create_index([(\"Country\", 1), (\"Year\", 1)])\n",
    "print(\"I made an index for Country and Year!\")\n",
    "\n",
    "# CLOSING CONNECTION\n",
    "mongo.close()\n",
    "print(\"Closed the MongoDB connection\")"
   ]
  },
  {
   "cell_type": "code",
   "execution_count": null,
   "id": "6f4c86a0-e56a-4b51-9707-23dad04461ad",
   "metadata": {},
   "outputs": [],
   "source": []
  }
 ],
 "metadata": {
  "kernelspec": {
   "display_name": "Python 3 (ipykernel)",
   "language": "python",
   "name": "python3"
  },
  "language_info": {
   "codemirror_mode": {
    "name": "ipython",
    "version": 3
   },
   "file_extension": ".py",
   "mimetype": "text/x-python",
   "name": "python",
   "nbconvert_exporter": "python",
   "pygments_lexer": "ipython3",
   "version": "3.11.5"
  }
 },
 "nbformat": 4,
 "nbformat_minor": 5
}
