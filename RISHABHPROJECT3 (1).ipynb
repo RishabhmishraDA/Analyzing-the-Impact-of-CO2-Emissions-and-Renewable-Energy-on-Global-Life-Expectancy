{
 "cells": [
  {
   "cell_type": "markdown",
   "id": "81e4241f-ce9a-4a80-9c03-943015be8f03",
   "metadata": {},
   "source": [
    "# MODIFICATION IN DATA AFTER FETCHING IT FROM MONGODB"
   ]
  },
  {
   "cell_type": "markdown",
   "id": "07bad8bf-b39b-4038-b8e5-522f1877cdc8",
   "metadata": {},
   "source": [
    "# FETCHING DATA FROM MONGODB"
   ]
  },
  {
   "cell_type": "code",
   "execution_count": 64,
   "id": "8535277f-4e35-40b9-ad81-a793d4855656",
   "metadata": {},
   "outputs": [],
   "source": [
    "# IMPORTING REQUIRED LIBRARIES\n",
    "import pandas as pd\n",
    "from pymongo import MongoClient\n",
    "from sqlalchemy import create_engine"
   ]
  },
  {
   "cell_type": "code",
   "execution_count": 65,
   "id": "91913d30-9fc4-4ad7-8855-301a3d893f47",
   "metadata": {},
   "outputs": [],
   "source": [
    "# connect to Mongo db\n",
    "mongo = MongoClient('mongodb://localhost:27017/')\n",
    "my_database = mongo['life_expectancy_db']\n",
    "my_collection = my_database['life_expectancy']\n",
    "\n"
   ]
  },
  {
   "cell_type": "code",
   "execution_count": 66,
   "id": "57a049cd-434d-467f-8b26-69223c2a2d09",
   "metadata": {},
   "outputs": [],
   "source": [
    "# collect all data and convert it in a list for dataframe\n",
    "all_data = my_collection.find()\n",
    "data_list = []\n",
    "for item in all_data:\n",
    "    data_list.append(item)\n"
   ]
  },
  {
   "cell_type": "code",
   "execution_count": 67,
   "id": "6c062e07-1c92-46d8-b70c-efb20c5172c8",
   "metadata": {},
   "outputs": [
    {
     "name": "stdout",
     "output_type": "stream",
     "text": [
      "DATA COLLETCED FROM MONGO DB\n"
     ]
    }
   ],
   "source": [
    "# Make a DataFrame with the data\n",
    "my_dataframe = pd.DataFrame(data_list)\n",
    "print(\"DATA COLLETCED FROM MONGO DB\")"
   ]
  },
  {
   "cell_type": "code",
   "execution_count": 68,
   "id": "2ea10774-5f73-4c50-a771-d2e42ca5510a",
   "metadata": {},
   "outputs": [
    {
     "data": {
      "text/html": [
       "<div>\n",
       "<style scoped>\n",
       "    .dataframe tbody tr th:only-of-type {\n",
       "        vertical-align: middle;\n",
       "    }\n",
       "\n",
       "    .dataframe tbody tr th {\n",
       "        vertical-align: top;\n",
       "    }\n",
       "\n",
       "    .dataframe thead th {\n",
       "        text-align: right;\n",
       "    }\n",
       "</style>\n",
       "<table border=\"1\" class=\"dataframe\">\n",
       "  <thead>\n",
       "    <tr style=\"text-align: right;\">\n",
       "      <th></th>\n",
       "      <th>_id</th>\n",
       "      <th>Country</th>\n",
       "      <th>Year</th>\n",
       "      <th>Life Expectancy</th>\n",
       "    </tr>\n",
       "  </thead>\n",
       "  <tbody>\n",
       "    <tr>\n",
       "      <th>0</th>\n",
       "      <td>68026ba54ffc2e0c78267da7</td>\n",
       "      <td>Afghanistan</td>\n",
       "      <td>1950</td>\n",
       "      <td>28.1563</td>\n",
       "    </tr>\n",
       "    <tr>\n",
       "      <th>1</th>\n",
       "      <td>68026ba54ffc2e0c78267da8</td>\n",
       "      <td>Afghanistan</td>\n",
       "      <td>1951</td>\n",
       "      <td>28.5836</td>\n",
       "    </tr>\n",
       "    <tr>\n",
       "      <th>2</th>\n",
       "      <td>68026ba54ffc2e0c78267da9</td>\n",
       "      <td>Afghanistan</td>\n",
       "      <td>1952</td>\n",
       "      <td>29.0138</td>\n",
       "    </tr>\n",
       "    <tr>\n",
       "      <th>3</th>\n",
       "      <td>68026ba54ffc2e0c78267daa</td>\n",
       "      <td>Afghanistan</td>\n",
       "      <td>1953</td>\n",
       "      <td>29.4521</td>\n",
       "    </tr>\n",
       "    <tr>\n",
       "      <th>4</th>\n",
       "      <td>68026ba54ffc2e0c78267dab</td>\n",
       "      <td>Afghanistan</td>\n",
       "      <td>1954</td>\n",
       "      <td>29.6975</td>\n",
       "    </tr>\n",
       "  </tbody>\n",
       "</table>\n",
       "</div>"
      ],
      "text/plain": [
       "                        _id      Country  Year  Life Expectancy\n",
       "0  68026ba54ffc2e0c78267da7  Afghanistan  1950          28.1563\n",
       "1  68026ba54ffc2e0c78267da8  Afghanistan  1951          28.5836\n",
       "2  68026ba54ffc2e0c78267da9  Afghanistan  1952          29.0138\n",
       "3  68026ba54ffc2e0c78267daa  Afghanistan  1953          29.4521\n",
       "4  68026ba54ffc2e0c78267dab  Afghanistan  1954          29.6975"
      ]
     },
     "execution_count": 68,
     "metadata": {},
     "output_type": "execute_result"
    }
   ],
   "source": [
    "my_dataframe.head()"
   ]
  },
  {
   "cell_type": "markdown",
   "id": "2acf4c1d-9009-41f2-bb8c-ab7f3e3db201",
   "metadata": {},
   "source": [
    "# DATA CLEANING"
   ]
  },
  {
   "cell_type": "code",
   "execution_count": 70,
   "id": "1d268aa2-2664-40c5-892b-673314dce532",
   "metadata": {},
   "outputs": [],
   "source": [
    "# removing id column\n",
    "my_dataframe = my_dataframe.drop('_id', axis=1)\n",
    "\n",
    "# round life expectancy\n",
    "my_dataframe['Life Expectancy'] = my_dataframe['Life Expectancy'].round(2)"
   ]
  },
  {
   "cell_type": "code",
   "execution_count": 71,
   "id": "de3d17fb-6ef4-427e-8d01-43f50c27d3fd",
   "metadata": {},
   "outputs": [
    {
     "data": {
      "text/html": [
       "<div>\n",
       "<style scoped>\n",
       "    .dataframe tbody tr th:only-of-type {\n",
       "        vertical-align: middle;\n",
       "    }\n",
       "\n",
       "    .dataframe tbody tr th {\n",
       "        vertical-align: top;\n",
       "    }\n",
       "\n",
       "    .dataframe thead th {\n",
       "        text-align: right;\n",
       "    }\n",
       "</style>\n",
       "<table border=\"1\" class=\"dataframe\">\n",
       "  <thead>\n",
       "    <tr style=\"text-align: right;\">\n",
       "      <th></th>\n",
       "      <th>Country</th>\n",
       "      <th>Year</th>\n",
       "      <th>Life Expectancy</th>\n",
       "    </tr>\n",
       "  </thead>\n",
       "  <tbody>\n",
       "    <tr>\n",
       "      <th>0</th>\n",
       "      <td>Afghanistan</td>\n",
       "      <td>1950</td>\n",
       "      <td>28.16</td>\n",
       "    </tr>\n",
       "    <tr>\n",
       "      <th>1</th>\n",
       "      <td>Afghanistan</td>\n",
       "      <td>1951</td>\n",
       "      <td>28.58</td>\n",
       "    </tr>\n",
       "    <tr>\n",
       "      <th>2</th>\n",
       "      <td>Afghanistan</td>\n",
       "      <td>1952</td>\n",
       "      <td>29.01</td>\n",
       "    </tr>\n",
       "    <tr>\n",
       "      <th>3</th>\n",
       "      <td>Afghanistan</td>\n",
       "      <td>1953</td>\n",
       "      <td>29.45</td>\n",
       "    </tr>\n",
       "    <tr>\n",
       "      <th>4</th>\n",
       "      <td>Afghanistan</td>\n",
       "      <td>1954</td>\n",
       "      <td>29.70</td>\n",
       "    </tr>\n",
       "  </tbody>\n",
       "</table>\n",
       "</div>"
      ],
      "text/plain": [
       "       Country  Year  Life Expectancy\n",
       "0  Afghanistan  1950            28.16\n",
       "1  Afghanistan  1951            28.58\n",
       "2  Afghanistan  1952            29.01\n",
       "3  Afghanistan  1953            29.45\n",
       "4  Afghanistan  1954            29.70"
      ]
     },
     "execution_count": 71,
     "metadata": {},
     "output_type": "execute_result"
    }
   ],
   "source": [
    "my_dataframe.head()"
   ]
  },
  {
   "cell_type": "code",
   "execution_count": 72,
   "id": "216faa63-b347-4a42-b116-121ea693dcb9",
   "metadata": {},
   "outputs": [
    {
     "data": {
      "text/plain": [
       "(21565, 3)"
      ]
     },
     "execution_count": 72,
     "metadata": {},
     "output_type": "execute_result"
    }
   ],
   "source": [
    "my_dataframe.shape"
   ]
  },
  {
   "cell_type": "markdown",
   "id": "c22156cc-4ccb-484e-a33a-18d84410435b",
   "metadata": {},
   "source": [
    "# SAVING DATA BACK TO MONGO DB UPDATING PROCESSED DATA"
   ]
  },
  {
   "cell_type": "code",
   "execution_count": 73,
   "id": "8cb48096-18b4-49ba-9ad8-53fbd3fba726",
   "metadata": {},
   "outputs": [
    {
     "name": "stdout",
     "output_type": "stream",
     "text": [
      "I added the data to MongoDB\n",
      "Total documents in MongoDB: 21565\n",
      "First document in MongoDB: {'_id': ObjectId('68026bafc88ec87a12a9a258'), 'Country': 'Afghanistan', 'Year': 1950, 'Life Expectancy': 28.16}\n",
      "I made an index for Country and Year!\n",
      "Closed the MongoDB connection\n"
     ]
    }
   ],
   "source": [
    "\n",
    "\n",
    "# REMOVING OLD DATA\n",
    "my_collection.drop()\n",
    "\n",
    "# CONVERTING DATA INTO DICTONARY \n",
    "data_list = my_dataframe.to_dict('records')\n",
    "\n",
    "# ADDED DATA TO MONGO DB\n",
    "my_collection.insert_many(data_list)\n",
    "print(\"I added the data to MongoDB\")\n",
    "\n",
    "# VERIFYING DATA\n",
    "count = my_collection.count_documents({})\n",
    "print(\"Total documents in MongoDB:\", count)\n",
    "\n",
    "# SHOW DATA TO VERIFY \n",
    "first = my_collection.find_one()\n",
    "print(\"First document in MongoDB:\", first)\n",
    "\n",
    "# MAKING A INDEX\n",
    "my_collection.create_index([(\"Country\", 1), (\"Year\", 1)])\n",
    "print(\"I made an index for Country and Year!\")\n",
    "\n",
    "# CLOSING CONNECTION\n",
    "mongo.close()\n",
    "print(\"Closed the MongoDB connection\")"
   ]
  },
  {
   "cell_type": "code",
   "execution_count": null,
   "id": "005af40e-4d32-4c61-a85e-a4a16a7b9f88",
   "metadata": {},
   "outputs": [],
   "source": []
  },
  {
   "cell_type": "code",
   "execution_count": null,
   "id": "aafb26ea-6adb-42a5-a869-c9c94be63207",
   "metadata": {},
   "outputs": [],
   "source": []
  }
 ],
 "metadata": {
  "kernelspec": {
   "display_name": "Python 3 (ipykernel)",
   "language": "python",
   "name": "python3"
  },
  "language_info": {
   "codemirror_mode": {
    "name": "ipython",
    "version": 3
   },
   "file_extension": ".py",
   "mimetype": "text/x-python",
   "name": "python",
   "nbconvert_exporter": "python",
   "pygments_lexer": "ipython3",
   "version": "3.11.5"
  }
 },
 "nbformat": 4,
 "nbformat_minor": 5
}
