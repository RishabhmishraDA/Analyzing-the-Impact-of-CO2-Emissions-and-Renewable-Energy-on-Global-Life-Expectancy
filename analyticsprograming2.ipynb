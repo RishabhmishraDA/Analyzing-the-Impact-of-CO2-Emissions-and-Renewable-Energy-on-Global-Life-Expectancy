{
 "cells": [
  {
   "cell_type": "code",
   "execution_count": 1,
   "id": "f3e9caba-1484-4106-9cf2-4074770d8a6f",
   "metadata": {},
   "outputs": [
    {
     "name": "stdout",
     "output_type": "stream",
     "text": [
      "Requirement already satisfied: requests in c:\\users\\risha\\anaconda3\\lib\\site-packages (2.31.0)\n",
      "Requirement already satisfied: pandas in c:\\users\\risha\\anaconda3\\lib\\site-packages (2.2.3)\n",
      "Requirement already satisfied: charset-normalizer<4,>=2 in c:\\users\\risha\\anaconda3\\lib\\site-packages (from requests) (2.0.4)\n",
      "Requirement already satisfied: idna<4,>=2.5 in c:\\users\\risha\\anaconda3\\lib\\site-packages (from requests) (3.4)\n",
      "Requirement already satisfied: urllib3<3,>=1.21.1 in c:\\users\\risha\\anaconda3\\lib\\site-packages (from requests) (1.26.16)\n",
      "Requirement already satisfied: certifi>=2017.4.17 in c:\\users\\risha\\anaconda3\\lib\\site-packages (from requests) (2024.8.30)\n",
      "Requirement already satisfied: numpy>=1.23.2 in c:\\users\\risha\\anaconda3\\lib\\site-packages (from pandas) (1.26.4)\n",
      "Requirement already satisfied: python-dateutil>=2.8.2 in c:\\users\\risha\\anaconda3\\lib\\site-packages (from pandas) (2.8.2)\n",
      "Requirement already satisfied: pytz>=2020.1 in c:\\users\\risha\\anaconda3\\lib\\site-packages (from pandas) (2023.3.post1)\n",
      "Requirement already satisfied: tzdata>=2022.7 in c:\\users\\risha\\anaconda3\\lib\\site-packages (from pandas) (2023.3)\n",
      "Requirement already satisfied: six>=1.5 in c:\\users\\risha\\anaconda3\\lib\\site-packages (from python-dateutil>=2.8.2->pandas) (1.16.0)\n",
      "Note: you may need to restart the kernel to use updated packages.\n"
     ]
    }
   ],
   "source": [
    "pip install requests pandas"
   ]
  },
  {
   "cell_type": "code",
   "execution_count": 6,
   "id": "aaa3a082-cfd4-4868-bafe-705a4fa160e5",
   "metadata": {},
   "outputs": [
    {
     "name": "stdout",
     "output_type": "stream",
     "text": [
      "Raw Life Expectancy Data:\n",
      "        Entity Code  Year  \\\n",
      "0  Afghanistan  AFG  1950   \n",
      "1  Afghanistan  AFG  1951   \n",
      "2  Afghanistan  AFG  1952   \n",
      "3  Afghanistan  AFG  1953   \n",
      "4  Afghanistan  AFG  1954   \n",
      "\n",
      "   Period life expectancy at birth - Sex: total - Age: 0  \n",
      "0                                            28.1563      \n",
      "1                                            28.5836      \n",
      "2                                            29.0138      \n",
      "3                                            29.4521      \n",
      "4                                            29.6975      \n",
      "\n",
      "Cleaned Life Expectancy Data:\n",
      "       Country  Year  Life Expectancy\n",
      "0  Afghanistan  1950          28.1563\n",
      "1  Afghanistan  1951          28.5836\n",
      "2  Afghanistan  1952          29.0138\n",
      "3  Afghanistan  1953          29.4521\n",
      "4  Afghanistan  1954          29.6975\n"
     ]
    }
   ],
   "source": [
    "import requests\n",
    "import pandas as pd\n",
    "\n",
    "def fetch_life_expectancy_data(url=\"https://ourworldindata.org/grapher/life-expectancy.csv\"):\n",
    "    # Request API \n",
    "    response = requests.get(url)\n",
    "    \n",
    "    # Checking if data fecting correctly\n",
    "    if response.status_code == 200:\n",
    "        # Read database\n",
    "        df = pd.read_csv(url)\n",
    "        return df\n",
    "    else:\n",
    "        print(f\"Error: Failed to fetch data. Status code: {response.status_code}\")\n",
    "        return None\n",
    "\n",
    "#  Examine data\n",
    "df = fetch_life_expectancy_data()\n",
    "print(\"Raw Life Expectancy Data:\")\n",
    "print(df.head())\n",
    "\n",
    "# Rename the columns\n",
    "df = df.rename(columns={\"Entity\": \"Country\", \"Period life expectancy at birth - Sex: total - Age: 0\": \"Life Expectancy\"})\n",
    "\n",
    "# Required columns for analysis\n",
    "df = df[[\"Country\", \"Year\", \"Life Expectancy\"]]\n",
    "\n",
    "# Drop blank rows\n",
    "df = df.dropna()\n",
    "\n",
    "# making sure that year in int and life expectancy as float\n",
    "df[\"Year\"] = df[\"Year\"].astype(int)\n",
    "df[\"Life Expectancy\"] = df[\"Life Expectancy\"].astype(float)\n",
    "\n",
    "# Remove duplicates\n",
    "df = df.drop_duplicates()\n",
    "\n",
    "# Organizing data\n",
    "df = df.sort_values(by=[\"Country\", \"Year\"])\n",
    "\n",
    "# clear data appearance\n",
    "print(\"\\nCleaned Life Expectancy Data:\")\n",
    "print(df.head())\n",
    "\n"
   ]
  },
  {
   "cell_type": "code",
   "execution_count": 8,
   "id": "6e610510-8902-4b0c-971d-16e60061b115",
   "metadata": {},
   "outputs": [
    {
     "data": {
      "text/plain": [
       "(21565, 3)"
      ]
     },
     "execution_count": 8,
     "metadata": {},
     "output_type": "execute_result"
    }
   ],
   "source": [
    "df.shape\n"
   ]
  },
  {
   "cell_type": "code",
   "execution_count": 10,
   "id": "162d56bf-a2eb-4b61-80b0-a2196a15459c",
   "metadata": {},
   "outputs": [
    {
     "data": {
      "text/html": [
       "<div>\n",
       "<style scoped>\n",
       "    .dataframe tbody tr th:only-of-type {\n",
       "        vertical-align: middle;\n",
       "    }\n",
       "\n",
       "    .dataframe tbody tr th {\n",
       "        vertical-align: top;\n",
       "    }\n",
       "\n",
       "    .dataframe thead th {\n",
       "        text-align: right;\n",
       "    }\n",
       "</style>\n",
       "<table border=\"1\" class=\"dataframe\">\n",
       "  <thead>\n",
       "    <tr style=\"text-align: right;\">\n",
       "      <th></th>\n",
       "      <th>Year</th>\n",
       "      <th>Life Expectancy</th>\n",
       "    </tr>\n",
       "  </thead>\n",
       "  <tbody>\n",
       "    <tr>\n",
       "      <th>count</th>\n",
       "      <td>21565.000000</td>\n",
       "      <td>21565.000000</td>\n",
       "    </tr>\n",
       "    <tr>\n",
       "      <th>mean</th>\n",
       "      <td>1976.992812</td>\n",
       "      <td>61.942238</td>\n",
       "    </tr>\n",
       "    <tr>\n",
       "      <th>std</th>\n",
       "      <td>38.461606</td>\n",
       "      <td>12.925909</td>\n",
       "    </tr>\n",
       "    <tr>\n",
       "      <th>min</th>\n",
       "      <td>1543.000000</td>\n",
       "      <td>10.989100</td>\n",
       "    </tr>\n",
       "    <tr>\n",
       "      <th>25%</th>\n",
       "      <td>1962.000000</td>\n",
       "      <td>52.703000</td>\n",
       "    </tr>\n",
       "    <tr>\n",
       "      <th>50%</th>\n",
       "      <td>1982.000000</td>\n",
       "      <td>64.479900</td>\n",
       "    </tr>\n",
       "    <tr>\n",
       "      <th>75%</th>\n",
       "      <td>2003.000000</td>\n",
       "      <td>71.978900</td>\n",
       "    </tr>\n",
       "    <tr>\n",
       "      <th>max</th>\n",
       "      <td>2023.000000</td>\n",
       "      <td>86.372400</td>\n",
       "    </tr>\n",
       "  </tbody>\n",
       "</table>\n",
       "</div>"
      ],
      "text/plain": [
       "               Year  Life Expectancy\n",
       "count  21565.000000     21565.000000\n",
       "mean    1976.992812        61.942238\n",
       "std       38.461606        12.925909\n",
       "min     1543.000000        10.989100\n",
       "25%     1962.000000        52.703000\n",
       "50%     1982.000000        64.479900\n",
       "75%     2003.000000        71.978900\n",
       "max     2023.000000        86.372400"
      ]
     },
     "execution_count": 10,
     "metadata": {},
     "output_type": "execute_result"
    }
   ],
   "source": [
    "df.describe()"
   ]
  },
  {
   "cell_type": "code",
   "execution_count": 12,
   "id": "6ece9f61-d5fa-4364-80c9-db3d8fc1beaa",
   "metadata": {},
   "outputs": [
    {
     "name": "stdout",
     "output_type": "stream",
     "text": [
      "Data has been exported to 'output.xlsx'\n"
     ]
    }
   ],
   "source": [
    "# Export the DataFrame to an Excel file\n",
    "df.to_excel('output.xlsx', index=False)\n",
    "\n",
    "print(\"Data has been exported to 'output.xlsx'\")"
   ]
  },
  {
   "cell_type": "code",
   "execution_count": null,
   "id": "fb497103-deb0-4fc1-8889-597f6edbabbb",
   "metadata": {},
   "outputs": [],
   "source": []
  }
 ],
 "metadata": {
  "kernelspec": {
   "display_name": "Python 3 (ipykernel)",
   "language": "python",
   "name": "python3"
  },
  "language_info": {
   "codemirror_mode": {
    "name": "ipython",
    "version": 3
   },
   "file_extension": ".py",
   "mimetype": "text/x-python",
   "name": "python",
   "nbconvert_exporter": "python",
   "pygments_lexer": "ipython3",
   "version": "3.11.5"
  }
 },
 "nbformat": 4,
 "nbformat_minor": 5
}
