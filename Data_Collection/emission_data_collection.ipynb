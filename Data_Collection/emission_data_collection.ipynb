{
 "cells": [
  {
   "cell_type": "markdown",
   "id": "89f0671c",
   "metadata": {},
   "source": [
    "### Importing Libraries"
   ]
  },
  {
   "cell_type": "code",
   "execution_count": 1,
   "id": "3f922080",
   "metadata": {},
   "outputs": [],
   "source": [
    "import requests\n",
    "import pandas as pd\n",
    "import os"
   ]
  },
  {
   "cell_type": "markdown",
   "id": "d7fc52cc",
   "metadata": {},
   "source": [
    "### Using API from Our World in Data for collecting Carbon Emissions Data"
   ]
  },
  {
   "cell_type": "code",
   "execution_count": 2,
   "id": "ffe7e1eb",
   "metadata": {},
   "outputs": [],
   "source": [
    "emissions_url = \"https://ourworldindata.org/grapher/co-emissions-per-capita.csv?v=1&csvType=full&useColumnShortNames=false\""
   ]
  },
  {
   "cell_type": "code",
   "execution_count": 3,
   "metadata": {},
   "outputs": [],
   "source": [
    "emissions_output_file = \"co2_emissions_per_capita.csv\""
   ]
  },
  {
   "cell_type": "code",
   "execution_count": 4,
   "metadata": {},
   "outputs": [
    {
     "name": "stdout",
     "output_type": "stream",
     "text": [
      "Data successfully saved to co2_emissions_per_capita.csv\n",
      "\n",
      "First few rows of the data:\n",
      "        Entity Code  Year  Annual CO₂ emissions (per capita)\n",
      "0  Afghanistan  AFG  1949                           0.001992\n",
      "1  Afghanistan  AFG  1950                           0.010837\n",
      "2  Afghanistan  AFG  1951                           0.011625\n",
      "3  Afghanistan  AFG  1952                           0.011468\n",
      "4  Afghanistan  AFG  1953                           0.013123\n"
     ]
    }
   ],
   "source": [
    "def fetch_and_save_csv(url, output_file):\n",
    "    try:\n",
    "        response = requests.get(emissions_url)\n",
    "        response.raise_for_status()  \n",
    "\n",
    "        with open(\"temp.csv\", \"wb\") as f:\n",
    "            f.write(response.content)\n",
    "\n",
    "        emissions_df = pd.read_csv(\"temp.csv\")\n",
    "\n",
    "        emissions_df.to_csv(output_file, index=False)\n",
    "        print(f\"Data successfully saved to {emissions_output_file}\")\n",
    "\n",
    "        os.remove(\"temp.csv\")\n",
    "\n",
    "        print(\"\\nFirst few rows of the data:\")\n",
    "        print(emissions_df.head())\n",
    "\n",
    "    except requests.exceptions.RequestException as e:\n",
    "        print(f\"Error fetching the data: {e}\")\n",
    "    except pd.errors.EmptyDataError:\n",
    "        print(\"Error: The CSV file is empty or invalid.\")\n",
    "    except Exception as e:\n",
    "        print(f\"An unexpected error occurred: {e}\")\n",
    "\n",
    "if __name__ == \"__main__\":\n",
    "    fetch_and_save_csv(emissions_url, emissions_output_file)"
   ]
  }
 ],
 "metadata": {
  "kernelspec": {
   "display_name": "Python 3",
   "language": "python",
   "name": "python3"
  },
  "language_info": {
   "codemirror_mode": {
    "name": "ipython",
    "version": 3
   },
   "file_extension": ".py",
   "mimetype": "text/x-python",
   "name": "python",
   "nbconvert_exporter": "python",
   "pygments_lexer": "ipython3",
   "version": "3.11.6"
  }
 },
 "nbformat": 4,
 "nbformat_minor": 5
}
