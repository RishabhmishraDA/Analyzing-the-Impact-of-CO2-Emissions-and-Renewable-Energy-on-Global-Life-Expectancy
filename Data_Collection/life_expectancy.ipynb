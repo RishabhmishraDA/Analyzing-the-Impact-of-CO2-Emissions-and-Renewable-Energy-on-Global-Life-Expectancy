{
 "cells": [
  {
   "cell_type": "markdown",
   "id": "41750d29",
   "metadata": {},
   "source": [
    "### Importing Libraries"
   ]
  },
  {
   "cell_type": "code",
   "execution_count": 1,
   "id": "eb7c191f",
   "metadata": {},
   "outputs": [],
   "source": [
    "import requests\n",
    "import pandas as pd\n",
    "import os"
   ]
  },
  {
   "cell_type": "markdown",
   "id": "c10f3dd0",
   "metadata": {},
   "source": [
    "### Using API from Our World in Data for collecting Life Expectancy Data"
   ]
  },
  {
   "cell_type": "code",
   "execution_count": 2,
   "id": "ace4bde1",
   "metadata": {},
   "outputs": [],
   "source": [
    "life_expectancy_url = \"https://ourworldindata.org/grapher/life-expectancy.csv?v=1&csvType=full&useColumnShortNames=false\""
   ]
  },
  {
   "cell_type": "code",
   "execution_count": 3,
   "id": "d7b56bb3",
   "metadata": {},
   "outputs": [],
   "source": [
    "life_expectancy_output_file = \"life_expectancy.csv\""
   ]
  },
  {
   "cell_type": "code",
   "execution_count": 4,
   "id": "6bfb0660",
   "metadata": {},
   "outputs": [
    {
     "name": "stdout",
     "output_type": "stream",
     "text": [
      "Data successfully saved to life_expectancy.csv\n",
      "\n",
      "First few rows of the data:\n",
      "        Entity Code  Year  \\\n",
      "0  Afghanistan  AFG  1950   \n",
      "1  Afghanistan  AFG  1951   \n",
      "2  Afghanistan  AFG  1952   \n",
      "3  Afghanistan  AFG  1953   \n",
      "4  Afghanistan  AFG  1954   \n",
      "\n",
      "   Period life expectancy at birth - Sex: total - Age: 0  \n",
      "0                                            28.1563      \n",
      "1                                            28.5836      \n",
      "2                                            29.0138      \n",
      "3                                            29.4521      \n",
      "4                                            29.6975      \n"
     ]
    }
   ],
   "source": [
    "def fetch_and_save_csv(url, output_file):\n",
    "    try:\n",
    "        response = requests.get(url)\n",
    "        response.raise_for_status()  \n",
    "\n",
    "        with open(\"temp.csv\", \"wb\") as f:\n",
    "            f.write(response.content)\n",
    "\n",
    "        life_expectancy_df = pd.read_csv(\"temp.csv\")\n",
    "\n",
    "        life_expectancy_df.to_csv(output_file, index=False)\n",
    "        print(f\"Data successfully saved to {output_file}\")\n",
    "\n",
    "        os.remove(\"temp.csv\")\n",
    "\n",
    "        print(\"\\nFirst few rows of the data:\")\n",
    "        print(life_expectancy_df.head())\n",
    "\n",
    "    except requests.exceptions.RequestException as e:\n",
    "        print(f\"Error fetching the data: {e}\")\n",
    "    except pd.errors.EmptyDataError:\n",
    "        print(\"Error: The CSV file is empty or invalid.\")\n",
    "    except Exception as e:\n",
    "        print(f\"An unexpected error occurred: {e}\")\n",
    "\n",
    "if __name__ == \"__main__\":\n",
    "    fetch_and_save_csv(life_expectancy_url, life_expectancy_output_file)"
   ]
  }
 ],
 "metadata": {
  "kernelspec": {
   "display_name": "Python 3",
   "language": "python",
   "name": "python3"
  },
  "language_info": {
   "codemirror_mode": {
    "name": "ipython",
    "version": 3
   },
   "file_extension": ".py",
   "mimetype": "text/x-python",
   "name": "python",
   "nbconvert_exporter": "python",
   "pygments_lexer": "ipython3",
   "version": "3.11.6"
  }
 },
 "nbformat": 4,
 "nbformat_minor": 5
}
