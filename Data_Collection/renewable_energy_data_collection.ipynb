{
 "cells": [
  {
   "cell_type": "markdown",
   "id": "f6bb7cae",
   "metadata": {},
   "source": [
    "### Importing Libraries"
   ]
  },
  {
   "cell_type": "code",
   "execution_count": 1,
   "id": "bf1a7443",
   "metadata": {},
   "outputs": [],
   "source": [
    "import requests\n",
    "import pandas as pd\n",
    "import os"
   ]
  },
  {
   "cell_type": "markdown",
   "id": "f9dbde73",
   "metadata": {},
   "source": [
    "### Using API from Our World in Data for collecting Renewable Energy Data"
   ]
  },
  {
   "cell_type": "code",
   "execution_count": 2,
   "metadata": {},
   "outputs": [],
   "source": [
    "renewable_url = \"https://ourworldindata.org/grapher/renewable-share-energy.csv?v=1&csvType=full&useColumnShortNames=false\""
   ]
  },
  {
   "cell_type": "code",
   "execution_count": 3,
   "id": "e64bb145",
   "metadata": {},
   "outputs": [],
   "source": [
    "renewable_output_file = \"renewable_share_energy.csv\""
   ]
  },
  {
   "cell_type": "code",
   "execution_count": 4,
   "id": "4a7b64d2",
   "metadata": {},
   "outputs": [
    {
     "name": "stdout",
     "output_type": "stream",
     "text": [
      "Data successfully saved to renewable_share_energy.csv\n",
      "\n",
      "First few rows of the data:\n",
      "   Entity Code  Year  Renewables (% equivalent primary energy)\n",
      "0  Africa  NaN  1965                                  5.740281\n",
      "1  Africa  NaN  1966                                  6.113969\n",
      "2  Africa  NaN  1967                                  6.316580\n",
      "3  Africa  NaN  1968                                  6.994845\n",
      "4  Africa  NaN  1969                                  7.943916\n"
     ]
    }
   ],
   "source": [
    "def fetch_and_save_csv(url, output_file):\n",
    "    try:\n",
    "        response = requests.get(url)\n",
    "        response.raise_for_status()  \n",
    "\n",
    "        with open(\"temp.csv\", \"wb\") as f:\n",
    "            f.write(response.content)\n",
    "\n",
    "        renewable_df = pd.read_csv(\"temp.csv\")\n",
    "\n",
    "        renewable_df.to_csv(output_file, index=False)\n",
    "        print(f\"Data successfully saved to {output_file}\")\n",
    "\n",
    "        os.remove(\"temp.csv\")\n",
    "\n",
    "        print(\"\\nFirst few rows of the data:\")\n",
    "        print(renewable_df.head())\n",
    "\n",
    "    except requests.exceptions.RequestException as e:\n",
    "        print(f\"Error fetching the data: {e}\")\n",
    "    except pd.errors.EmptyDataError:\n",
    "        print(\"Error: The CSV file is empty or invalid.\")\n",
    "    except Exception as e:\n",
    "        print(f\"An unexpected error occurred: {e}\")\n",
    "\n",
    "if __name__ == \"__main__\":\n",
    "    fetch_and_save_csv(renewable_url, renewable_output_file)"
   ]
  }
 ],
 "metadata": {
  "kernelspec": {
   "display_name": "Python 3",
   "language": "python",
   "name": "python3"
  },
  "language_info": {
   "codemirror_mode": {
    "name": "ipython",
    "version": 3
   },
   "file_extension": ".py",
   "mimetype": "text/x-python",
   "name": "python",
   "nbconvert_exporter": "python",
   "pygments_lexer": "ipython3",
   "version": "3.11.6"
  }
 },
 "nbformat": 4,
 "nbformat_minor": 5
}
